{
  "nbformat": 4,
  "nbformat_minor": 0,
  "metadata": {
    "colab": {
      "provenance": [],
      "gpuType": "A100",
      "machine_shape": "hm",
      "include_colab_link": true
    },
    "kernelspec": {
      "name": "python3",
      "display_name": "Python 3"
    },
    "language_info": {
      "name": "python"
    },
    "accelerator": "GPU"
  },
  "cells": [
    {
      "cell_type": "markdown",
      "metadata": {
        "id": "view-in-github",
        "colab_type": "text"
      },
      "source": [
        "<a href=\"https://colab.research.google.com/github/Lolu-U/Collab-LLM/blob/main/Autogen_UI_setup_with_Ollama.ipynb\" target=\"_parent\"><img src=\"https://colab.research.google.com/assets/colab-badge.svg\" alt=\"Open In Colab\"/></a>"
      ]
    },
    {
      "cell_type": "code",
      "execution_count": null,
      "metadata": {
        "id": "jGmangvEDxqp"
      },
      "outputs": [],
      "source": [
        "!curl -fsSL https://ollama.com/install.sh | sh\n",
        "!command -v systemctl >/dev/null && sudo systemctl stop ollama"
      ]
    },
    {
      "cell_type": "code",
      "source": [
        "!ollama serve > server.log 2>&1 &"
      ],
      "metadata": {
        "id": "q3qRXV2mEEFr"
      },
      "execution_count": null,
      "outputs": []
    },
    {
      "cell_type": "code",
      "source": [
        "import os\n",
        "os.environ[\"OLLAMA_HOST\"] = \"http://127.0.0.1:11434\"\n",
        "os.environ[\"LD_LIBRARY_PATH\"] = \"/usr/lib64-nvidia\""
      ],
      "metadata": {
        "id": "ZJeNdGDKELUt"
      },
      "execution_count": null,
      "outputs": []
    },
    {
      "cell_type": "code",
      "source": [
        "!ollama run mistral > server_log.log 2>&1 &"
      ],
      "metadata": {
        "id": "4Z23B4c8EPdp"
      },
      "execution_count": null,
      "outputs": []
    },
    {
      "cell_type": "code",
      "source": [
        "!pip install litellm"
      ],
      "metadata": {
        "id": "mXjGQDbsEvyo"
      },
      "execution_count": null,
      "outputs": []
    },
    {
      "cell_type": "code",
      "source": [
        "!pip install \"fastapi[all]\""
      ],
      "metadata": {
        "id": "EIG1bv6MSqEd"
      },
      "execution_count": null,
      "outputs": []
    },
    {
      "cell_type": "code",
      "source": [
        "!pip install 'litellm[proxy]'"
      ],
      "metadata": {
        "id": "QgQOEnOdS_i2"
      },
      "execution_count": null,
      "outputs": []
    },
    {
      "cell_type": "code",
      "source": [
        "!litellm --model ollama/mistral --api_base \"http://127.0.0.1:11434\" --debug > server_log_2.log 2>&1 &"
      ],
      "metadata": {
        "id": "wLQ0Rh6CE3X_"
      },
      "execution_count": null,
      "outputs": []
    },
    {
      "cell_type": "markdown",
      "source": [
        "use autogen instead"
      ],
      "metadata": {
        "id": "4-qztXciVs9w"
      }
    },
    {
      "cell_type": "code",
      "source": [
        "!pip install autogenstudio"
      ],
      "metadata": {
        "id": "_TDZpXDNVy88"
      },
      "execution_count": null,
      "outputs": []
    },
    {
      "cell_type": "code",
      "source": [
        "import os\n",
        "os.environ[\"OPENAI_API_KEY\"] = \"api_key\"\n",
        "os.environ[\"OPENAI_BASE_URL\"] = \"http://0.0.0.0:8000\""
      ],
      "metadata": {
        "id": "AkDCtRYrFVJq"
      },
      "execution_count": null,
      "outputs": []
    },
    {
      "cell_type": "code",
      "source": [
        "!autogenstudio ui --port 8083 > server_log_4.log 2>&1 &"
      ],
      "metadata": {
        "id": "SRO4frZ-V5s0"
      },
      "execution_count": null,
      "outputs": []
    },
    {
      "cell_type": "code",
      "source": [
        "!wget https://bin.equinox.io/c/4VmDzA7iaHb/ngrok-stable-linux-amd64.zip\n",
        "!unzip -o ngrok-stable-linux-amd64.zip"
      ],
      "metadata": {
        "id": "ix1fKW41Fq8u"
      },
      "execution_count": null,
      "outputs": []
    },
    {
      "cell_type": "markdown",
      "source": [
        "register an account at ngrok.com and create an authtoken and place it here"
      ],
      "metadata": {
        "id": "7S0Mj-7oiKuX"
      }
    },
    {
      "cell_type": "code",
      "source": [
        "!./ngrok authtoken"
      ],
      "metadata": {
        "id": "jNut4cNJFuo8"
      },
      "execution_count": null,
      "outputs": []
    },
    {
      "cell_type": "code",
      "source": [
        "from IPython import get_ipython\n",
        "get_ipython().system_raw('./ngrok http 8083 &')"
      ],
      "metadata": {
        "id": "yPBYgr1fF1sH"
      },
      "execution_count": null,
      "outputs": []
    },
    {
      "cell_type": "code",
      "source": [
        "!curl -s http://localhost:4040/api/tunnels | python3 -c \"import sys, json; print(json.load(sys.stdin)['tunnels'][0]['public_url'])\""
      ],
      "metadata": {
        "id": "clIAqxRqF5q9",
        "outputId": "266af5b7-73f7-47a3-d167-b1909283919b",
        "colab": {
          "base_uri": "https://localhost:8080/"
        }
      },
      "execution_count": null,
      "outputs": [
        {
          "output_type": "stream",
          "name": "stdout",
          "text": [
            "https://8faf-34-87-135-201.ngrok-free.app\n"
          ]
        }
      ]
    }
  ]
}